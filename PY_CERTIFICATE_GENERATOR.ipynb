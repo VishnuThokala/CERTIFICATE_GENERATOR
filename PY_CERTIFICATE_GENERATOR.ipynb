{
  "nbformat": 4,
  "nbformat_minor": 0,
  "metadata": {
    "colab": {
      "name": "PY_CERTIFICATE_GENERATOR.ipynb",
      "provenance": [],
      "collapsed_sections": [
        "afsaIYxZfJpj"
      ],
      "authorship_tag": "ABX9TyPmmFbPiJfh1bFdRGyRKxvz",
      "include_colab_link": true
    },
    "kernelspec": {
      "name": "python3",
      "display_name": "Python 3"
    },
    "language_info": {
      "name": "python"
    }
  },
  "cells": [
    {
      "cell_type": "markdown",
      "metadata": {
        "id": "view-in-github",
        "colab_type": "text"
      },
      "source": [
        "<a href=\"https://colab.research.google.com/github/VishnuThokala/CERTIFICATE_GENERATOR/blob/main/PY_CERTIFICATE_GENERATOR.ipynb\" target=\"_parent\"><img src=\"https://colab.research.google.com/assets/colab-badge.svg\" alt=\"Open In Colab\"/></a>"
      ]
    },
    {
      "cell_type": "code",
      "execution_count": null,
      "metadata": {
        "id": "Ddz8GTI7ekzL"
      },
      "outputs": [],
      "source": [
        "from google.colab import files\n",
        "files.upload()"
      ]
    },
    {
      "cell_type": "code",
      "source": [
        "from google.colab import drive\n",
        "drive.mount('/content/drive')"
      ],
      "metadata": {
        "id": "fglihKS3LAoY",
        "colab": {
          "base_uri": "https://localhost:8080/"
        },
        "outputId": "be1b63b3-4141-4907-fd88-89c085979bf5"
      },
      "execution_count": 19,
      "outputs": [
        {
          "output_type": "stream",
          "name": "stdout",
          "text": [
            "Mounted at /content/drive\n"
          ]
        }
      ]
    },
    {
      "cell_type": "code",
      "execution_count": null,
      "metadata": {
        "id": "pTvbg4eH-H5Z"
      },
      "outputs": [],
      "source": [
        "import pandas as pd\n",
        "# add excel file path\n",
        "df= pd.read_excel('/content/CyS WS Names Edit.xlsx')\n",
        "print(df.columns)\n",
        "\n",
        "#names list\n",
        "l= df[df.columns[2]]\n",
        "print(l)\n",
        "\n",
        "# #gender\n",
        "# g=df[df.columns[2]]\n",
        "# print(g)\n",
        "\n",
        "# # mail ids\n",
        "# m=df[df.columns[4]]\n",
        "# print(m)"
      ]
    },
    {
      "cell_type": "code",
      "execution_count": 21,
      "metadata": {
        "id": "aZYsVrSdAkCm"
      },
      "outputs": [],
      "source": [
        "from PIL import Image\n",
        "from PIL import ImageDraw\n",
        "from PIL import ImageFont\n",
        "import os \n",
        "import requests\n",
        "   "
      ]
    },
    {
      "cell_type": "code",
      "source": [
        "# Download roboto font here \n",
        "url = 'https://www.1001fonts.com/download/font/roboto.bold.ttf'\n",
        "r = requests.get(url, allow_redirects=True)\n",
        "\n",
        "open('Roboto.ttf', 'wb').write(r.content)\n",
        "FONT_FILE='/content/Roboto.ttf'"
      ],
      "metadata": {
        "id": "yG0sAVdGO2UA"
      },
      "execution_count": 22,
      "outputs": []
    },
    {
      "cell_type": "code",
      "source": [
        "folder=input('ENTER Folder Name to save images : ')"
      ],
      "metadata": {
        "id": "x5DgF-4VJhMe"
      },
      "execution_count": null,
      "outputs": []
    },
    {
      "cell_type": "code",
      "source": [
        "# path \n",
        "path = '/content/drive/MyDrive/'+folder\n",
        "    \n",
        "# Create the directory \n",
        "try: \n",
        "    os.mkdir(path) \n",
        "except OSError as error: \n",
        "    print(error)  "
      ],
      "metadata": {
        "id": "UzBSnjxdTydn"
      },
      "execution_count": 36,
      "outputs": []
    },
    {
      "cell_type": "code",
      "execution_count": 42,
      "metadata": {
        "id": "ulkPnVnXARC2"
      },
      "outputs": [],
      "source": [
        "def gen(name,gen='None'):\n",
        "  # add your Base template path\n",
        "  img = Image.open('/content/CYS.jpg') \n",
        "  W,H=img.size\n",
        "  I1 = ImageDraw.Draw(img)\n",
        "  myFont = ImageFont.truetype(FONT_FILE, 78)\n",
        "  w,h = myFont.getsize(name)\n",
        "  if(gen=='Male'):\n",
        "    name='Mr. '+name\n",
        "  elif(gen=='Female'):\n",
        "    name='Ms. '+name\n",
        "  else:\n",
        "    name=name\n",
        "  I1.text(((W-w)/2,(H-h-50)/2), name, font=myFont, fill =(0, 0, 80))\n",
        "  img.show()\n",
        "  img.save(path+'/'+name+'.png')\n",
        "  IMG_path=path+'/'+name+'.png'\n",
        "  k.append(IMG_path)"
      ]
    },
    {
      "cell_type": "code",
      "source": [
        "# Example certificate\n",
        "k=[]\n",
        "gen('Example')"
      ],
      "metadata": {
        "id": "FzD_NVlZPxFh"
      },
      "execution_count": 43,
      "outputs": []
    },
    {
      "cell_type": "code",
      "execution_count": 31,
      "metadata": {
        "id": "0Fe6Qv9s0QVp"
      },
      "outputs": [],
      "source": [
        "k=[]\n",
        "for i in range(len(l)):\n",
        "  gen(l[i])"
      ]
    },
    {
      "cell_type": "markdown",
      "metadata": {
        "id": "afsaIYxZfJpj"
      },
      "source": [
        "# **AUTOMATED** **MAILING**"
      ]
    },
    {
      "cell_type": "code",
      "execution_count": 29,
      "metadata": {
        "id": "v37lRXeBI6iX"
      },
      "outputs": [],
      "source": [
        "def sendMail(fromaddr,toaddr,body,sub,filename,path):    \n",
        "  # instance of MIMEMultipart\n",
        "  msg = MIMEMultipart()\n",
        "  # storing the senders email address\n",
        "  msg['From'] = fromaddr\n",
        "  # storing the receivers email address\n",
        "  msg['To'] = toaddr\n",
        "  # storing the subject\n",
        "  msg['Subject'] = sub\n",
        "  # attach the body with the msg instance\n",
        "  msg.attach(MIMEText(body, 'plain'))\n",
        "  # open the file to be sent  \n",
        "  attachment = open(path, \"rb\")\n",
        "  # instance of MIMEBase and named as p\n",
        "  p = MIMEBase('application', 'octet-stream')\n",
        "  # To change the payload into encoded form\n",
        "  p.set_payload((attachment).read())\n",
        "  # encode into base64\n",
        "  encoders.encode_base64(p)\n",
        "  p.add_header('Content-Disposition', \"attachment; filename= %s\" % filename)\n",
        "  # attach the instance 'p' to instance 'msg'\n",
        "  msg.attach(p)\n",
        "  text = msg.as_string()\n",
        "  return text;"
      ]
    },
    {
      "cell_type": "code",
      "execution_count": null,
      "metadata": {
        "id": "l3XTAUg5FPBB"
      },
      "outputs": [],
      "source": [
        "# libraries to be imported\n",
        "import smtplib\n",
        "from email.mime.multipart import MIMEMultipart\n",
        "from email.mime.text import MIMEText\n",
        "from email.mime.base import MIMEBase\n",
        "from email import encoders\n",
        "\n",
        "fromaddr = 'sender_mail_id'\n",
        "toaddr = m\n",
        "pas= \"sender_mail_password\"\n",
        "body='body of the mail'\n",
        "sub = \"subject of the mail\"\n",
        "\n",
        "s = smtplib.SMTP('smtp.gmail.com', 587)\n",
        "s.starttls()\n",
        "s.login(fromaddr, pas)\n",
        "for i in range(len(toaddr)):\n",
        "  text=sendMail(fromaddr,toaddr[i],body,sub,names[i]+'.png',k[i])\n",
        "  s.sendmail(fromaddr,toaddr[i] , text)\n",
        "  print('sent'+names[i])\n",
        "s.quit()\n"
      ]
    }
  ]
}